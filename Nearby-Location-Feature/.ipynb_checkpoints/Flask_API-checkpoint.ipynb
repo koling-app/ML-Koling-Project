{
 "cells": [
  {
   "cell_type": "code",
   "execution_count": 6,
   "id": "efdeaf81",
   "metadata": {},
   "outputs": [
    {
     "name": "stdout",
     "output_type": "stream",
     "text": [
      " * Serving Flask app \"__main__\" (lazy loading)\n",
      " * Environment: production\n",
      "\u001b[31m   WARNING: This is a development server. Do not use it in a production deployment.\u001b[0m\n",
      "\u001b[2m   Use a production WSGI server instead.\u001b[0m\n",
      " * Debug mode: off\n"
     ]
    },
    {
     "name": "stderr",
     "output_type": "stream",
     "text": [
      " * Running on http://127.0.0.1:5000/ (Press CTRL+C to quit)\n",
      "C:\\Users\\USER\\anaconda3\\lib\\site-packages\\sklearn\\base.py:439: UserWarning: X does not have valid feature names, but StandardScaler was fitted with feature names\n",
      "  warnings.warn(\n",
      "127.0.0.1 - - [16/Jun/2023 16:54:58] \"POST /predict HTTP/1.1\" 200 -\n"
     ]
    }
   ],
   "source": [
    "from flask import Flask, request, jsonify\n",
    "import tensorflow as tf\n",
    "import numpy as np\n",
    "import pandas as pd\n",
    "from sklearn.preprocessing import MinMaxScaler\n",
    "from sklearn.preprocessing import LabelEncoder\n",
    "from sklearn.neighbors import KDTree\n",
    "from sklearn.model_selection import train_test_split\n",
    "from sklearn.metrics import accuracy_score\n",
    "from sklearn.preprocessing import StandardScaler\n",
    "\n",
    "app = Flask(__name__)\n",
    "\n",
    "# Load data from CSV\n",
    "df = pd.read_csv('data.csv')\n",
    "\n",
    "# Preprocessing\n",
    "X = df[['Latitude', 'Longitude']].values\n",
    "y = df['Label'].values\n",
    "\n",
    "# Normalize the features\n",
    "scaler = MinMaxScaler()\n",
    "X_scaled = scaler.fit_transform(X)\n",
    "\n",
    "# Encode labels to numeric representation\n",
    "label_encoder = LabelEncoder()\n",
    "y_encoded = label_encoder.fit_transform(y)\n",
    "\n",
    "# Split data into training and testing sets\n",
    "X_train, X_test, y_train, y_test = train_test_split(X_scaled, y_encoded, test_size=0.2, random_state=42)\n",
    "\n",
    "# Create KDTree using the training data\n",
    "kdtree = KDTree(X_train)\n",
    "\n",
    "# Load the model\n",
    "model = tf.keras.models.load_model('model.h5')\n",
    "\n",
    "# Define the scaler and fit it with the training data\n",
    "scaler = StandardScaler(with_mean=False, with_std=False)\n",
    "scaler.fit(df[['Latitude', 'Longitude']])\n",
    "\n",
    "# Route for predicting nearest institutions\n",
    "@app.route('/calculate', methods=['POST'])\n",
    "def predict_nearest_institutions():\n",
    "    data = request.json\n",
    "    latitude = data['latitude']\n",
    "    longitude = data['longitude']\n",
    "    label = data['label']\n",
    "\n",
    "    location = scaler.transform([[latitude, longitude]])\n",
    "    kdtree = KDTree(scaler.transform(df[['Latitude', 'Longitude']]))\n",
    "    _, indices = kdtree.query(location, k=5)\n",
    "    nearest_institutions = df.loc[indices[0], :]\n",
    "    nearest_institutions = nearest_institutions[nearest_institutions['Label'] == label]\n",
    "\n",
    "    predictions = []\n",
    "    for _, row in nearest_institutions.iterrows():\n",
    "        institution_data = row[['ID', 'KETERANGAN', 'TLP', 'Latitude', 'Longitude', 'Label']].to_dict()\n",
    "        predictions.append(institution_data)\n",
    "\n",
    "    if nearest_institutions.empty:\n",
    "        all_institutions = df[df['Label'] == label]\n",
    "        if all_institutions.empty:\n",
    "            return jsonify({'message': 'No institutions found for the specified type.'})\n",
    "        else:\n",
    "            for _, row in all_institutions.iterrows():\n",
    "                institution_data = row[['KETERANGAN', 'TLP', 'Latitude', 'Longitude', 'Label']].to_dict()\n",
    "                predictions.append(institution_data)\n",
    "\n",
    "    return jsonify(predictions)\n",
    "\n",
    "\n",
    "if __name__ == '__main__':\n",
    "    app.run()"
   ]
  },
  {
   "cell_type": "code",
   "execution_count": null,
   "id": "d5535a41",
   "metadata": {},
   "outputs": [],
   "source": []
  }
 ],
 "metadata": {
  "kernelspec": {
   "display_name": "Python 3 (ipykernel)",
   "language": "python",
   "name": "python3"
  },
  "language_info": {
   "codemirror_mode": {
    "name": "ipython",
    "version": 3
   },
   "file_extension": ".py",
   "mimetype": "text/x-python",
   "name": "python",
   "nbconvert_exporter": "python",
   "pygments_lexer": "ipython3",
   "version": "3.9.12"
  }
 },
 "nbformat": 4,
 "nbformat_minor": 5
}
